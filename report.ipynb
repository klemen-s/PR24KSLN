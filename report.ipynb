{
 "cells": [
  {
   "cell_type": "markdown",
   "id": "8a62430a",
   "metadata": {},
   "source": [
    "# Analiza stanovanjskega trga v Ljubljani\n",
    "\n",
    "### Člana skupine\n",
    "- Klemen Slatnar (klemen-s)\n",
    "- Lovro Napotnik (Lovroo)\n",
    "\n",
    "### Opis problema\n",
    "Stanovanjski trg v Ljubljani je kompleksen in se nenehno spreminja. Cene stanovanj se razlikujejo glede na lokacijo, velikost in druge dejavnike. Cilj tega projekta je razumeti, kako se te cene spreminjajo in kaj vpliva na povpraševanje po stanovanjih v različnih delih mesta. S tem bomo lahko bolje razumeli trende na trgu in kaj bi to lahko pomenilo za ljudi, ki jih zanima nakup stanovanja.\n",
    "\n",
    "\n",
    "## PODATKI\n",
    "Vir: https://ipi.eprostor.gov.si/jgp/data\n",
    "\n",
    "Za analizo stanovanjskega trga v Ljubljani potrebujemo določen par datotek (ETN_SLO_KUP_LETO_delistavb_20240302.csv in ETN_SLO_KUP_LETO_posli_20240302.csv). \n",
    "Preko »ID Posla«, ki je prisoten v obeh datotekah, lahko ugotovimo kater posel je bil kje sklenjen in za katero vrsto objekta gre (stanovanje). Po tem postopku lahko potem izluščimo vse stanovanjske objekte in posle, ki so se zgodili v Ljubljani.\n",
    "Podatki v določenih primerih niso bili popolni, take primere sva odstranila iz končne množice podatkov.\n",
    "\n",
    "Končna oblika obdelanih podatkov:\n",
    "-\t #ID, #Ime ulice, #Hišna številka, #Leto izgradnje stanovanja, #Kvadratura stanovanja, #Datum prodaje, #Cena (EUR)"
   ]
  },
  {
   "cell_type": "markdown",
   "id": "8c7923d8",
   "metadata": {},
   "source": [
    "# Izvedene analize\n",
    "\n",
    "\n"
   ]
  },
  {
   "cell_type": "markdown",
   "id": "538c9e8f",
   "metadata": {},
   "source": []
  }
 ],
 "metadata": {
  "language_info": {
   "name": "python"
  }
 },
 "nbformat": 4,
 "nbformat_minor": 2
}
