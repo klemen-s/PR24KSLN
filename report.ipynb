{
 "cells": [
  {
   "cell_type": "markdown",
   "id": "30b3d3b5",
   "metadata": {},
   "source": [
    "Priprava podatkov in povezovanje med CSV-ji po letih. Nato filtriranje vseh ne stanovanjskih objektov, ter vseh poslov, ki so se zgodili izven Ljubljane."
   ]
  },
  {
   "cell_type": "code",
   "execution_count": 1,
   "id": "10ae5f7d",
   "metadata": {},
   "outputs": [
    {
     "name": "stderr",
     "output_type": "stream",
     "text": [
      "/Users/lovro/opt/anaconda3/lib/python3.9/site-packages/pandas/core/computation/expressions.py:21: UserWarning: Pandas requires version '2.8.4' or newer of 'numexpr' (version '2.8.3' currently installed).\n",
      "  from pandas.core.computation.check import NUMEXPR_INSTALLED\n",
      "/Users/lovro/opt/anaconda3/lib/python3.9/site-packages/pandas/core/arrays/masked.py:60: UserWarning: Pandas requires version '1.3.6' or newer of 'bottleneck' (version '1.3.5' currently installed).\n",
      "  from pandas.core import (\n"
     ]
    },
    {
     "name": "stdout",
     "output_type": "stream",
     "text": [
      "Podatki o stavbi: ID Posla(0), Šifra KO(1), Ime KO(2), Občina(3), Številka stavbe(4), Številka dela stavbe(5), Parcelna številka za geolokacijo(6), Interna oznaka dela stavbe(7), Evidentiranost dela stavbe(8), Naselje(9), Ulica(10), Hišna številka(11), Dodatek HŠ(12), Številka stanovanja ali poslovnega prostora(13), Vrsta dela stavbe(14), Leto izgradnje dela stavbe(15), Stavba je dokončana(16), Gradbena faza(17), Novogradnja(18), Prodana površina(19), Prodani delež dela stavbe(20), Prodana površina dela stavbe(21), Prodana uporabna površina dela stavbe(22), Nadstropje dela stavbe(23), Število zunanjih parkirnih mest(24), Atrij(25), Površina atrija(26), Opombe o nepremičnini(27), Dejanska raba dela stavbe(28), Lega dela stavbe v stavbi(29), Število sob(30), Površina dela stavbe(31), Uporabna površina(32), Prostori dela stavbe(33), Pogodbena cena dela stavbe(34), Stopnja DDV dela stavbe(35)\n",
      "-----------------\n",
      "Podatki o transakciji: ID Posla(0), Vrsta kupoprodajnega posla(1), Datum uveljavitve(2), Datum sklenitve pogodbe(3), Pogodbena cena / Odškodnina(4), Vključenost DDV(5), Stopnja DDV(6), Datum izteka lizinga(7), Datum prenehanja lizinga(8), Opombe o pravnem poslu(9), Posredovanje nepremičninske agencije(10), Datum zadnje spremembe posla(11), Datum zadnje uveljavitve posla(12), Vrsta akta(13), Tržnost posla(14)\n",
      "-----------------\n",
      "#ID, #Ime ulice, #Hišna številka, #Leto izgradnje stanovanja, #Kvadratura stanovanja, #Datum prodaje, #Cena (EUR)\n",
      "['-673479' 'ULICA BRATOV UČAKAR' '102' '1979' 56.0 '25.03.2013' 123000.0]\n"
     ]
    }
   ],
   "source": [
    "import pandas as pd\n",
    "import numpy as np\n",
    "\n",
    "\n",
    "print(\"Podatki o stavbi: ID Posla(0), Šifra KO(1), Ime KO(2), Občina(3), Številka stavbe(4), Številka dela stavbe(5), Parcelna številka za geolokacijo(6), Interna oznaka dela stavbe(7), Evidentiranost dela stavbe(8), Naselje(9), Ulica(10), Hišna številka(11), Dodatek HŠ(12), Številka stanovanja ali poslovnega prostora(13), Vrsta dela stavbe(14), Leto izgradnje dela stavbe(15), Stavba je dokončana(16), Gradbena faza(17), Novogradnja(18), Prodana površina(19), Prodani delež dela stavbe(20), Prodana površina dela stavbe(21), Prodana uporabna površina dela stavbe(22), Nadstropje dela stavbe(23), Število zunanjih parkirnih mest(24), Atrij(25), Površina atrija(26), Opombe o nepremičnini(27), Dejanska raba dela stavbe(28), Lega dela stavbe v stavbi(29), Število sob(30), Površina dela stavbe(31), Uporabna površina(32), Prostori dela stavbe(33), Pogodbena cena dela stavbe(34), Stopnja DDV dela stavbe(35)\")\n",
    "print(\"-----------------\")\n",
    "print(\"Podatki o transakciji: ID Posla(0), Vrsta kupoprodajnega posla(1), Datum uveljavitve(2), Datum sklenitve pogodbe(3), Pogodbena cena / Odškodnina(4), Vključenost DDV(5), Stopnja DDV(6), Datum izteka lizinga(7), Datum prenehanja lizinga(8), Opombe o pravnem poslu(9), Posredovanje nepremičninske agencije(10), Datum zadnje spremembe posla(11), Datum zadnje uveljavitve posla(12), Vrsta akta(13), Tržnost posla(14)\")\n",
    "\n",
    "stavbe2014 = \"podatki/ETN_SLO_KUP_2014_20240302/ETN_SLO_KUP_2014_delistavb_20240302.csv\"\n",
    "posli2014 = \"podatki/ETN_SLO_KUP_2014_20240302/ETN_SLO_KUP_2014_posli_20240302.csv\"\n",
    "\n",
    "\n",
    "\n",
    "def pridobiProdaje(stavbe, posli):\n",
    "    podatki2014 = list()\n",
    "    import csv\n",
    "\n",
    "    with open(stavbe, 'r') as csv_file:\n",
    "        reader = csv.reader(csv_file, delimiter=';')\n",
    "        for row in reader:\n",
    "            if(row[3] == 'LJUBLJANA' and ('Stanovanje' in row[28] or 'stanovanje' in row[28])):\n",
    "                podatki2014.append(row)\n",
    "\n",
    "    final2014 = list()\n",
    "    posli2014List = list()\n",
    "    with open(posli, 'r') as csv_file:\n",
    "        reader = csv.reader(csv_file, delimiter=';')\n",
    "        for row in reader:\n",
    "            posli2014List.append(row)\n",
    "\n",
    "    seenList = list()\n",
    "    for posel in posli2014List:          \n",
    "        for stan in podatki2014:\n",
    "            #posel[1] -> 1, ker to so vse prodane nepremičnine na prostem trgu\n",
    "            if(stan[0] == posel[0] and posel[1] == '1'):\n",
    "                if(posel[0] not in seenList):\n",
    "                    if(posel[4] == '' or stan[19] == '0' or float(stan[19].replace(',', '.')) < 10):\n",
    "                        continue\n",
    "                    seenList.append(posel[0])\n",
    "                    final2014.append((posel[0], stan[10],  stan[11],  stan[15],  float(stan[19].replace(',', '.')), posel[3], float(posel[4].replace(',', '.'))))\n",
    "\n",
    "    final = np.array(final2014 ,dtype=\"object\")\n",
    "    return final\n",
    "\n",
    "final2014 = pridobiProdaje(stavbe2014, posli2014)\n",
    "\n",
    "print(\"-----------------\")\n",
    "print(\"#ID, #Ime ulice, #Hišna številka, #Leto izgradnje stanovanja, #Kvadratura stanovanja, #Datum prodaje, #Cena (EUR)\")\n",
    "print(final2014[5])"
   ]
  },
  {
   "cell_type": "markdown",
   "id": "a781752e",
   "metadata": {},
   "source": [
    "Vsi podatki iz obdobja **2013-2014** so urejeni. Sedaj je treba še urediti vse podatke do 02.03.2024 ."
   ]
  },
  {
   "cell_type": "code",
   "execution_count": 2,
   "id": "88b01090",
   "metadata": {},
   "outputs": [],
   "source": [
    "stavbe2015 = \"podatki/ETN_SLO_KUP_2015_20240302/ETN_SLO_KUP_2015_delistavb_20240302.csv\"\n",
    "posli2015 = \"podatki/ETN_SLO_KUP_2015_20240302/ETN_SLO_KUP_2015_posli_20240302.csv\"\n",
    "final2015 = pridobiProdaje(stavbe2015, posli2015)\n",
    "\n",
    "stavbe2016 = \"podatki/ETN_SLO_KUP_2016_20240302/ETN_SLO_KUP_2016_delistavb_20240302.csv\"\n",
    "posli2016 = \"podatki/ETN_SLO_KUP_2016_20240302/ETN_SLO_KUP_2016_posli_20240302.csv\"\n",
    "final2016 = pridobiProdaje(stavbe2016, posli2016)\n",
    "\n",
    "stavbe2017 = \"podatki/ETN_SLO_KUP_2017_20240302/ETN_SLO_KUP_2017_delistavb_20240302.csv\"\n",
    "posli2017 = \"podatki/ETN_SLO_KUP_2017_20240302/ETN_SLO_KUP_2017_posli_20240302.csv\"\n",
    "final2017 = pridobiProdaje(stavbe2017, posli2017)\n",
    "\n",
    "stavbe2018 = \"podatki/ETN_SLO_KUP_2018_20240302/ETN_SLO_KUP_2018_delistavb_20240302.csv\"\n",
    "posli2018 = \"podatki/ETN_SLO_KUP_2018_20240302/ETN_SLO_KUP_2018_posli_20240302.csv\"\n",
    "final2018 = pridobiProdaje(stavbe2018, posli2018)\n",
    "\n",
    "stavbe2019 = \"podatki/ETN_SLO_KUP_2019_20240302/ETN_SLO_KUP_2019_delistavb_20240302.csv\"\n",
    "posli2019 = \"podatki/ETN_SLO_KUP_2019_20240302/ETN_SLO_KUP_2019_posli_20240302.csv\"\n",
    "final2019 = pridobiProdaje(stavbe2019, posli2019)\n",
    "\n",
    "stavbe2020 = \"podatki/ETN_SLO_KUP_2020_20240302/ETN_SLO_KUP_2020_delistavb_20240302.csv\"\n",
    "posli2020 = \"podatki/ETN_SLO_KUP_2020_20240302/ETN_SLO_KUP_2020_posli_20240302.csv\"\n",
    "final2020 = pridobiProdaje(stavbe2020, posli2020)\n",
    "\n",
    "stavbe2021 = \"podatki/ETN_SLO_KUP_2021_20240302/ETN_SLO_KUP_2021_delistavb_20240302.csv\"\n",
    "posli2021 = \"podatki/ETN_SLO_KUP_2021_20240302/ETN_SLO_KUP_2021_posli_20240302.csv\"\n",
    "final2021 = pridobiProdaje(stavbe2021, posli2021)\n",
    "\n",
    "stavbe2022 = \"podatki/ETN_SLO_KUP_2022_20240302/ETN_SLO_KUP_2022_delistavb_20240302.csv\"\n",
    "posli2022 = \"podatki/ETN_SLO_KUP_2022_20240302/ETN_SLO_KUP_2022_posli_20240302.csv\"\n",
    "final2022 = pridobiProdaje(stavbe2022, posli2022)\n",
    "\n",
    "stavbe2023 = \"podatki/ETN_SLO_KUP_2023_20240302/ETN_SLO_KUP_2023_delistavb_20240302.csv\"\n",
    "posli2023 = \"podatki/ETN_SLO_KUP_2023_20240302/ETN_SLO_KUP_2023_posli_20240302.csv\"\n",
    "final2023 = pridobiProdaje(stavbe2023, posli2023)\n",
    "\n",
    "stavbe2024 = \"podatki/ETN_SLO_KUP_2024_20240302/ETN_SLO_KUP_2024_delistavb_20240302.csv\"\n",
    "posli2024 = \"podatki/ETN_SLO_KUP_2024_20240302/ETN_SLO_KUP_2024_posli_20240302.csv\"\n",
    "final2024 = pridobiProdaje(stavbe2024, posli2024)\n",
    "\n",
    "\n",
    "\n"
   ]
  },
  {
   "cell_type": "code",
   "execution_count": 3,
   "id": "7e3d9bc4",
   "metadata": {},
   "outputs": [],
   "source": [
    "np.set_printoptions(threshold=1504000)\n",
    "# print(final2015)"
   ]
  },
  {
   "cell_type": "markdown",
   "id": "c155fb69",
   "metadata": {},
   "source": [
    "**Vizualizacije**"
   ]
  },
  {
   "cell_type": "code",
   "execution_count": 4,
   "id": "b34a017a",
   "metadata": {},
   "outputs": [],
   "source": [
    "import matplotlib.pyplot as plt "
   ]
  },
  {
   "cell_type": "code",
   "execution_count": 5,
   "id": "a0124616",
   "metadata": {},
   "outputs": [
    {
     "data": {
      "text/plain": [
       "array([[2014, 3126],\n",
       "       [2015, 3054],\n",
       "       [2016, 3120],\n",
       "       [2017, 3262],\n",
       "       [2018, 2675],\n",
       "       [2019, 3103],\n",
       "       [2020, 2844],\n",
       "       [2021, 2938],\n",
       "       [2022, 2626],\n",
       "       [2023, 2328]])"
      ]
     },
     "execution_count": 5,
     "metadata": {},
     "output_type": "execute_result"
    }
   ],
   "source": [
    "# KODA\n",
    "# Število prodaj na leto (rolling average)\n",
    "# ID, #Ime ulice, #Hišna številka, #Leto izgradnje stanovanja, #Kvadratura stanovanja, #Datum prodaje, #Cena (EUR)\n",
    "\n",
    "podatki_za_leto = [final2014,final2015,final2016,final2017,final2018,final2019,final2020,final2021,final2022,final2023]\n",
    "stevilo_prodaj_po_letih = []\n",
    "leto = 2014\n",
    "\n",
    "for leto_analize in podatki_za_leto:\n",
    "    stevilo_prodaj_po_letih.append([leto,len(leto_analize)])\n",
    "    leto += 1;\n",
    "\n",
    "stevilo_prodaj_po_letih = np.array(stevilo_prodaj_po_letih)\n",
    "stevilo_prodaj_po_letih\n"
   ]
  },
  {
   "cell_type": "code",
   "execution_count": 6,
   "id": "7ecfa5e4",
   "metadata": {},
   "outputs": [
    {
     "data": {
      "image/png": "[encoded data removed]",
      "text/plain": [
       "<Figure size 1200x800 with 1 Axes>"
      ]
     },
     "metadata": {},
     "output_type": "display_data"
    }
   ],
   "source": [
    "plt.figure(figsize=(12,8))\n",
    "plt.title(\"Število prodanih stanovanj na leto\") \n",
    "plt.xlabel(\"Leto\") \n",
    "plt.plot(stevilo_prodaj_po_letih[:, 0], stevilo_prodaj_po_letih[:, 1], color =\"royalblue\") \n",
    "plt.xticks(stevilo_prodaj_po_letih[:, 0])\n",
    "plt.show()"
   ]
  },
  {
   "cell_type": "code",
   "execution_count": 7,
   "id": "fc098537",
   "metadata": {},
   "outputs": [
    {
     "name": "stdout",
     "output_type": "stream",
     "text": [
      "[3730000, 3100000, 1700000, 3000000, 3160000, 2948000, 5758600, 1619760, 5500000, 7500000]\n"
     ]
    },
    {
     "data": {
      "image/png": "[encoded data removed]",
      "text/plain": [
       "<Figure size 1200x800 with 1 Axes>"
      ]
     },
     "metadata": {},
     "output_type": "display_data"
    }
   ],
   "source": [
    "# MAX prodajna cena za vsako leto\n",
    "x_os = stevilo_prodaj_po_letih[:, 0]\n",
    "\n",
    "max_cena_za_vsako_leto = []\n",
    "\n",
    "for leto_analize in podatki_za_leto:\n",
    "    max_cena_za_vsako_leto.append(np.max(leto_analize[:, 6].astype(int)))\n",
    "\n",
    "print(max_cena_za_vsako_leto)\n",
    "\n",
    "plt.figure(figsize=(12,8))\n",
    "plt.bar(x_os, max_cena_za_vsako_leto)\n",
    "plt.title(\"Najvišja cena prodanega stanovanja za določeno leto\")\n",
    "plt.xlabel(\"Leto\")\n",
    "plt.xticks(x_os)\n",
    "plt.show()\n"
   ]
  },
  {
   "cell_type": "code",
   "execution_count": 8,
   "id": "57bd181f",
   "metadata": {},
   "outputs": [
    {
     "data": {
      "text/plain": [
       "array([['2014',\n",
       "        array([191, 191, 236, 256, 230, 274, 296, 223, 335, 296, 349, 249])],\n",
       "       ['2015',\n",
       "        array([179, 211, 233, 217, 246, 260, 258, 220, 274, 285, 343, 328])],\n",
       "       ['2016',\n",
       "        array([197, 239, 303, 258, 291, 269, 224, 231, 286, 313, 273, 236])],\n",
       "       ['2017',\n",
       "        array([281, 241, 319, 256, 296, 315, 292, 204, 230, 277, 282, 269])],\n",
       "       ['2018',\n",
       "        array([239, 213, 286, 225, 240, 227, 169, 187, 225, 212, 221, 231])],\n",
       "       ['2019',\n",
       "        array([241, 243, 262, 260, 281, 233, 231, 209, 265, 338, 237, 303])],\n",
       "       ['2020',\n",
       "        array([254, 242, 195,  87, 150, 260, 240, 201, 304, 279, 343, 289])],\n",
       "       ['2021',\n",
       "        array([194, 220, 294, 263, 279, 286, 254, 201, 225, 255, 252, 215])],\n",
       "       ['2022',\n",
       "        array([204, 214, 281, 244, 232, 190, 189, 182, 227, 199, 229, 235])],\n",
       "       ['2023',\n",
       "        array([182, 164, 256, 176, 218, 231, 154, 145, 165, 257, 216, 164])]],\n",
       "      dtype=object)"
      ]
     },
     "execution_count": 8,
     "metadata": {},
     "output_type": "execute_result"
    }
   ],
   "source": [
    "# Line graph za število prodanih stanovanj za vsak mesec v letu za posamezna leta\n",
    "\n",
    "# Za vsako leto shranimo število prodanih stanovanj na mesec\n",
    "mesec_stanovanja_leta = [[\"2014\"], [\"2015\"], [\"2016\"],[\"2017\"], [\"2018\"], [\"2019\"],[\"2020\"], [\"2021\"], [\"2022\"], [\"2023\"]]\n",
    "meseci = [\"01\", \"02\", \"03\", \"04\", \"05\", \"06\", \"07\", \"08\", \"09\", \"10\", \"11\", \"12\"]\n",
    "\n",
    "stevec = 0\n",
    "\n",
    "for leto_analize in podatki_za_leto:\n",
    "    meseci_slovar = dict()\n",
    "\n",
    "    # Init: mesec -> seznam z vrsticami za ta mesec\n",
    "    for i in meseci:\n",
    "        meseci_slovar[i] = 0\n",
    "    \n",
    "    # Število prodanih stanovanj v določenem mesecu\n",
    "    for row in leto_analize:\n",
    "        mesec = row[5].split(\".\")[1]\n",
    "        meseci_slovar[mesec] += 1\n",
    "\n",
    "    temp_arr = []\n",
    "\n",
    "    for stevilo_prodanih_na_mesec in meseci_slovar.values():\n",
    "        temp_arr.append(stevilo_prodanih_na_mesec)\n",
    "\n",
    "    temp_arr = np.array(temp_arr)\n",
    "    mesec_stanovanja_leta[stevec].append(temp_arr)\n",
    "    stevec += 1\n",
    "\n",
    "\n",
    "mesec_stanovanja_leta = np.array(mesec_stanovanja_leta, dtype=\"object\")\n",
    "        \n",
    "mesec_stanovanja_leta"
   ]
  },
  {
   "cell_type": "code",
   "execution_count": 9,
   "id": "b6c0abd1",
   "metadata": {},
   "outputs": [
    {
     "data": {
      "image/png": "[encoded data removed]",
      "text/plain": [
       "<Figure size 1200x800 with 1 Axes>"
      ]
     },
     "metadata": {},
     "output_type": "display_data"
    }
   ],
   "source": [
    "mesecno_stevilo_prodanih_vsa_leta = np.zeros(12)\n",
    "\n",
    "for letni_podatki in mesec_stanovanja_leta:\n",
    "    mesecne_vrednosti = letni_podatki[1]\n",
    "    mesecno_stevilo_prodanih_vsa_leta += mesecne_vrednosti\n",
    "\n",
    "\n",
    "mesecno_stevilo_prodanih_vsa_leta = mesecno_stevilo_prodanih_vsa_leta.astype(int)\n",
    "\n",
    "plt.figure(figsize=(12,8))\n",
    "plt.title(\"Število prodanih stanovanj na mesec od 2014 do 2023\") \n",
    "plt.xlabel(\"Meseci\") \n",
    "plt.plot(meseci, mesecno_stevilo_prodanih_vsa_leta, color =\"seagreen\") \n",
    "plt.show()"
   ]
  },
  {
   "cell_type": "markdown",
   "id": "db10096f",
   "metadata": {},
   "source": [
    "**Iskanje osamelcev**\n"
   ]
  },
  {
   "cell_type": "markdown",
   "id": "ba112194",
   "metadata": {},
   "source": [
    "S pomočjo histogramov bomo probali ugotoviti porazdelitev stanovanj ter iskali osamelce."
   ]
  },
  {
   "cell_type": "code",
   "execution_count": 10,
   "id": "e6ab3e3c",
   "metadata": {
    "scrolled": false
   },
   "outputs": [
    {
     "ename": "NameError",
     "evalue": "name 'mvn' is not defined",
     "output_type": "error",
     "traceback": [
      "\u001b[0;31m---------------------------------------------------------------------------\u001b[0m",
      "\u001b[0;31mNameError\u001b[0m                                 Traceback (most recent call last)",
      "Input \u001b[0;32mIn [10]\u001b[0m, in \u001b[0;36m<cell line: 57>\u001b[0;34m()\u001b[0m\n\u001b[1;32m     53\u001b[0m     lt95 \u001b[38;5;241m=\u001b[39m x_os[x_os \u001b[38;5;241m>\u001b[39m\u001b[38;5;241m=\u001b[39m top95]\n\u001b[1;32m     55\u001b[0m     \u001b[38;5;28;01mreturn\u001b[39;00m top95\u001b[38;5;241m-\u001b[39mmedian_price\n\u001b[0;32m---> 57\u001b[0m \u001b[43mhistIzris\u001b[49m\u001b[43m(\u001b[49m\u001b[43mfinal2014\u001b[49m\u001b[43m,\u001b[49m\u001b[43m \u001b[49m\u001b[38;5;241;43m2014\u001b[39;49m\u001b[43m)\u001b[49m\n\u001b[1;32m     58\u001b[0m histIzris(final2023, \u001b[38;5;241m2023\u001b[39m)\n\u001b[1;32m     60\u001b[0m odmikList \u001b[38;5;241m=\u001b[39m \u001b[38;5;28mlist\u001b[39m()\n",
      "Input \u001b[0;32mIn [10]\u001b[0m, in \u001b[0;36mhistIzris\u001b[0;34m(final_array, year)\u001b[0m\n\u001b[1;32m     16\u001b[0m     x_os \u001b[38;5;241m=\u001b[39m np\u001b[38;5;241m.\u001b[39mlinspace(\u001b[38;5;241m10000\u001b[39m, \u001b[38;5;241m1000000\u001b[39m, \u001b[38;5;241m200\u001b[39m)\n\u001b[1;32m     18\u001b[0m top95 \u001b[38;5;241m=\u001b[39m norm\u001b[38;5;241m.\u001b[39mppf(\u001b[38;5;241m0.95\u001b[39m, loc\u001b[38;5;241m=\u001b[39mmean, scale\u001b[38;5;241m=\u001b[39mnp\u001b[38;5;241m.\u001b[39msqrt(sigma2))    \n\u001b[0;32m---> 19\u001b[0m porazdelitvena \u001b[38;5;241m=\u001b[39m [mvn\u001b[38;5;241m.\u001b[39mpdf(x, mean, sigma2) \u001b[38;5;28;01mfor\u001b[39;00m x \u001b[38;5;129;01min\u001b[39;00m x_os]\n\u001b[1;32m     20\u001b[0m lt95 \u001b[38;5;241m=\u001b[39m x_os[x_os \u001b[38;5;241m>\u001b[39m\u001b[38;5;241m=\u001b[39m top95]\n\u001b[1;32m     22\u001b[0m width \u001b[38;5;241m=\u001b[39m x_os[\u001b[38;5;241m1\u001b[39m] \u001b[38;5;241m-\u001b[39m x_os[\u001b[38;5;241m0\u001b[39m]    \n",
      "Input \u001b[0;32mIn [10]\u001b[0m, in \u001b[0;36m<listcomp>\u001b[0;34m(.0)\u001b[0m\n\u001b[1;32m     16\u001b[0m     x_os \u001b[38;5;241m=\u001b[39m np\u001b[38;5;241m.\u001b[39mlinspace(\u001b[38;5;241m10000\u001b[39m, \u001b[38;5;241m1000000\u001b[39m, \u001b[38;5;241m200\u001b[39m)\n\u001b[1;32m     18\u001b[0m top95 \u001b[38;5;241m=\u001b[39m norm\u001b[38;5;241m.\u001b[39mppf(\u001b[38;5;241m0.95\u001b[39m, loc\u001b[38;5;241m=\u001b[39mmean, scale\u001b[38;5;241m=\u001b[39mnp\u001b[38;5;241m.\u001b[39msqrt(sigma2))    \n\u001b[0;32m---> 19\u001b[0m porazdelitvena \u001b[38;5;241m=\u001b[39m [\u001b[43mmvn\u001b[49m\u001b[38;5;241m.\u001b[39mpdf(x, mean, sigma2) \u001b[38;5;28;01mfor\u001b[39;00m x \u001b[38;5;129;01min\u001b[39;00m x_os]\n\u001b[1;32m     20\u001b[0m lt95 \u001b[38;5;241m=\u001b[39m x_os[x_os \u001b[38;5;241m>\u001b[39m\u001b[38;5;241m=\u001b[39m top95]\n\u001b[1;32m     22\u001b[0m width \u001b[38;5;241m=\u001b[39m x_os[\u001b[38;5;241m1\u001b[39m] \u001b[38;5;241m-\u001b[39m x_os[\u001b[38;5;241m0\u001b[39m]    \n",
      "\u001b[0;31mNameError\u001b[0m: name 'mvn' is not defined"
     ]
    }
   ],
   "source": [
    "from scipy.stats import norm\n",
    "\n",
    "def histIzris(final_array, year):\n",
    "    if(year < 2019):\n",
    "        podMiljon = final_array[final_array[:,6] < 700000]\n",
    "    else:\n",
    "        podMiljon = final_array[final_array[:,6] < 1000000]\n",
    "    median_price = np.median(podMiljon[:,6])\n",
    "\n",
    "    mean = np.mean(podMiljon[:,6])\n",
    "    n = len(podMiljon)\n",
    "    sigma2 = (n-1)/n * np.var(podMiljon[:,6])\n",
    "    if(year < 2019):\n",
    "        x_os = np.linspace(10000, 700000, 200)\n",
    "    else:\n",
    "        x_os = np.linspace(10000, 1000000, 200)\n",
    "    \n",
    "    top95 = norm.ppf(0.95, loc=mean, scale=np.sqrt(sigma2))    \n",
    "    porazdelitvena = [mvn.pdf(x, mean, sigma2) for x in x_os]\n",
    "    lt95 = x_os[x_os >= top95]\n",
    "    \n",
    "    width = x_os[1] - x_os[0]    \n",
    "    ploscina_lt95 = [mvn.pdf(x, mean, sigma2) * width for x in lt95] \n",
    "    plt.figure()\n",
    "    plt.hist(podMiljon[:,6], bins=100, density=True)\n",
    "    plt.ticklabel_format(useOffset=False, style='plain')\n",
    "    plt.axvline(x=median_price, color='red', linestyle='--', label='Mediana')\n",
    "    plt.axvline(x=top95, color='green', linestyle='--', label='95-ti percentil')\n",
    "    plt.plot(x_os, porazdelitvena, label=\"P(X) Cena stanovanj\", linewidth=2.0)\n",
    "    plt.hlines(y=0.000002, xmin=median_price, xmax=top95, linewidth=2, color='r', label='Razlika med mediano in 95-im percentilom')\n",
    "    plt.xlabel(\"Cena prodanega stanovanja v letu \" + str(year))\n",
    "    plt.legend()\n",
    "    plt.show()\n",
    "    return top95-median_price\n",
    "\n",
    "def hist(final_array, year):\n",
    "    if(year < 2019):\n",
    "        podMiljon = final_array[final_array[:,6] < 700000]\n",
    "    else:\n",
    "        podMiljon = final_array[final_array[:,6] < 1000000]\n",
    "    median_price = np.median(podMiljon[:,6])\n",
    "\n",
    "    mean = np.mean(podMiljon[:,6])\n",
    "    n = len(podMiljon)\n",
    "    sigma2 = (n-1)/n * np.var(podMiljon[:,6])\n",
    "    if(year < 2019):\n",
    "        x_os = np.linspace(10000, 700000, 200)\n",
    "    else:\n",
    "        x_os = np.linspace(10000, 1000000, 200)\n",
    "    \n",
    "    top95 = norm.ppf(0.95, loc=mean, scale=np.sqrt(sigma2))    \n",
    "    porazdelitvena = [mvn.pdf(x, mean, sigma2) for x in x_os]\n",
    "    lt95 = x_os[x_os >= top95]\n",
    "    \n",
    "    return top95-median_price\n",
    "    \n",
    "histIzris(final2014, 2014)\n",
    "histIzris(final2023, 2023)\n",
    "\n",
    "odmikList = list()\n",
    "for x in [(final2014, 2014),(final2015, 2015),(final2016, 2016),(final2017, 2017),(final2018, 2018),(final2019, 2019),(final2020, 2020),(final2021, 2021),(final2022, 2022),(final2023, 2023)]:\n",
    "    odmikList.append((x[1],hist(x[0],x[1])))\n",
    "    \n",
    "leta = [x[0] for x in odmikList]\n",
    "var = [x[1] for x in odmikList]\n",
    "\n",
    "plt.plot(leta, var, marker='o', linestyle='-')\n",
    "plt.title('Razmik med mediano in 95 percentilom')\n",
    "plt.xlabel('Leto')\n",
    "plt.ylabel('Δ Cena')\n",
    "plt.grid(True)\n",
    "plt.ylim(0)\n",
    "plt.tight_layout()\n",
    "plt.show()\n",
    "#print(np.max([x[1] for x in odmikList]))\n",
    "#print(odmikList)"
   ]
  },
  {
   "cell_type": "markdown",
   "id": "cd8d57d6",
   "metadata": {},
   "source": [
    "V tem delu poročila se osredotočimo na razmik med mediano in najmanjšo vrednostjo v zgornjih petih odstotkih. V letu 2017 je razmik padel glede na prejšnje leto, v vseh ostalih pa je naraščal. Največ v letu 2023. Posledično lahko trdimo, da je ta razmik (v bistvu standardni odklon) v zadnjih 7 letih vedno zrastel."
   ]
  },
  {
   "cell_type": "markdown",
   "id": "0065794c",
   "metadata": {},
   "source": [
    "## Analiza cene stanovanj skozi leta glede  na kvadraturo\n",
    "V tej sekciji analize bomo raziskali trende prodajne cene stanovanj glede na njihovo kvadraturo. In sicer, bomo jih razvrstili na štiri kategorije.\n",
    "<ul>\n",
    "<li>Vsa stanovanja med 10 m^2 in 30 m^2 (≈ Garsonjere)</li>\n",
    "<li>Stanovanja med 30 m^2 in 70 m^2 (≈ 1-sobna, 2-sobna)</li>\n",
    "<li>Stanovanja med 70 m^2  in 100 m^2 (≈ 3-sobna, 4-sobna)</li>\n",
    "<li>Stanovanja večja od 100 m^2</li>\n",
    "</ul>\n",
    "\n",
    "Začeli bomo s pregledom trenda cen garsonjer."
   ]
  },
  {
   "cell_type": "code",
   "execution_count": null,
   "id": "8df02ae5",
   "metadata": {},
   "outputs": [],
   "source": [
    "import numpy as np\n",
    "import matplotlib.pyplot as plt\n",
    "from datetime import datetime\n",
    "\n",
    "all_final = np.concatenate((final2014, final2015, final2016, final2017, final2018, final2019, final2020, final2021, final2022, final2023))\n",
    "Garsonjere = all_final[(all_final[:, 4] >= 10) & (all_final[:, 4] <= 30)]\n",
    "\n",
    "def convert_date(date_string):\n",
    "    return datetime.strptime(date_string, \"%d.%m.%Y\")\n",
    "\n",
    "Garsonjere = np.array(sorted(Garsonjere, key=lambda x: np.datetime64(convert_date(x[5]))))\n",
    "\n",
    "counter = 0\n",
    "sumaCena = 0\n",
    "garsonjereList = []\n",
    "\n",
    "for stanovanje in Garsonjere:\n",
    "    if counter < 240:\n",
    "        sumaCena += stanovanje[6]\n",
    "        garsonjereList.append((convert_date(stanovanje[5]), stanovanje[6]))\n",
    "        counter += 1\n",
    "    else:\n",
    "        sumaCena += stanovanje[6] - garsonjereList[counter - 240][1]\n",
    "        garsonjereList.append((convert_date(stanovanje[5]), stanovanje[6], (sumaCena / 240)))\n",
    "        counter += 1\n",
    "\n",
    "garsonjereList = np.array(garsonjereList[240:], dtype=\"object\")\n",
    "\n",
    "fig, ax = plt.subplots()\n",
    "ax.plot([x[0] for x in garsonjereList], [x[2] for x in garsonjereList], label=\"Cene garsonjer\")\n",
    "ax.legend(loc=0) \n",
    "ax.set_title('Povprečna cena garsonjere v Ljubljani od konca leta 2013 do konca leta 2023')\n",
    "plt.xlabel('Datum')\n",
    "plt.ylabel('Povprečna cena (EUR)')\n",
    "plt.xticks(rotation=45)\n",
    "max_y_value = np.max([x[2] for x in garsonjereList])\n",
    "ax.set_ylim(0, max_y_value + 30000)\n",
    "plt.show()\n",
    "garsonjereListFinal = garsonjereList"
   ]
  },
  {
   "cell_type": "code",
   "execution_count": null,
   "id": "d0bccda9",
   "metadata": {},
   "outputs": [],
   "source": [
    "Garsonjere = all_final[(all_final[:, 4] > 30) & (all_final[:, 4] < 70)]\n",
    "\n",
    "def convert_date(date_string):\n",
    "    return datetime.strptime(date_string, \"%d.%m.%Y\")\n",
    "\n",
    "Garsonjere = np.array(sorted(Garsonjere, key=lambda x: np.datetime64(convert_date(x[5]))))\n",
    "\n",
    "counter = 0\n",
    "sumaCena = 0\n",
    "garsonjereList = []\n",
    "\n",
    "for stanovanje in Garsonjere:\n",
    "    if counter < 240:\n",
    "        sumaCena += stanovanje[6]\n",
    "        garsonjereList.append((convert_date(stanovanje[5]), stanovanje[6]))\n",
    "        counter += 1\n",
    "    else:\n",
    "        sumaCena += stanovanje[6] - garsonjereList[counter - 240][1]\n",
    "        garsonjereList.append((convert_date(stanovanje[5]), stanovanje[6], (sumaCena / 240)))\n",
    "        counter += 1\n",
    "\n",
    "garsonjereList = np.array(garsonjereList[240:], dtype=\"object\")\n",
    "\n",
    "fig, ax = plt.subplots()\n",
    "ax.plot([x[0] for x in garsonjereList], [x[2] for x in garsonjereList], label=\"Cene stanovanj od 30 do 70 m^2\")\n",
    "ax.legend(loc=0) \n",
    "ax.set_title('Povprečna cena stanovanj od 30 do 70 m^2 v Ljubljani od konca leta 2013 do konca leta 2023')\n",
    "plt.xlabel('Datum')\n",
    "plt.ylabel('Povprečna cena (EUR)')\n",
    "plt.xticks(rotation=45)\n",
    "max_y_value = np.max([x[2] for x in garsonjereList])\n",
    "ax.set_ylim(0, max_y_value + 30000)\n",
    "plt.show()\n",
    "finalList2 = garsonjereList"
   ]
  },
  {
   "cell_type": "code",
   "execution_count": null,
   "id": "8998df9d",
   "metadata": {},
   "outputs": [],
   "source": [
    "Garsonjere = all_final[(all_final[:, 4] > 70) & (all_final[:, 4] < 110)]\n",
    "\n",
    "def convert_date(date_string):\n",
    "    return datetime.strptime(date_string, \"%d.%m.%Y\")\n",
    "\n",
    "Garsonjere = np.array(sorted(Garsonjere, key=lambda x: np.datetime64(convert_date(x[5]))))\n",
    "\n",
    "counter = 0\n",
    "sumaCena = 0\n",
    "garsonjereList = []\n",
    "\n",
    "for stanovanje in Garsonjere:\n",
    "    if counter < 240:\n",
    "        sumaCena += stanovanje[6]\n",
    "        garsonjereList.append((convert_date(stanovanje[5]), stanovanje[6]))\n",
    "        counter += 1\n",
    "    else:\n",
    "        sumaCena += stanovanje[6] - garsonjereList[counter - 240][1]\n",
    "        garsonjereList.append((convert_date(stanovanje[5]), stanovanje[6], (sumaCena / 240)))\n",
    "        counter += 1\n",
    "\n",
    "garsonjereList = np.array(garsonjereList[240:], dtype=\"object\")\n",
    "\n",
    "fig, ax = plt.subplots()\n",
    "ax.plot([x[0] for x in garsonjereList], [x[2] for x in garsonjereList], label=\"Cene stanovanj od 70 do 110 m^2\")\n",
    "ax.legend(loc=0) \n",
    "ax.set_title('Povprečna cena stanovanj od 70 do 110 m^2 v Ljubljani od konca leta 2013 do konca leta 2023')\n",
    "plt.xlabel('Datum')\n",
    "plt.ylabel('Povprečna cena (EUR)')\n",
    "plt.xticks(rotation=45)\n",
    "max_y_value = np.max([x[2] for x in garsonjereList])\n",
    "ax.set_ylim(0, max_y_value + 50000)\n",
    "plt.show()\n",
    "finalList3 = garsonjereList"
   ]
  },
  {
   "cell_type": "code",
   "execution_count": null,
   "id": "5ef809b7",
   "metadata": {},
   "outputs": [],
   "source": [
    "import numpy as np\n",
    "import matplotlib.pyplot as plt\n",
    "from datetime import datetime\n",
    "\n",
    "all_final = np.concatenate((final2014, final2015, final2016, final2017, final2018, final2019, final2020, final2021, final2022, final2023))\n",
    "Garsonjere = all_final[all_final[:,4] > 110]\n",
    "\n",
    "def convert_date(date_string):\n",
    "    return datetime.strptime(date_string, \"%d.%m.%Y\")\n",
    "\n",
    "Garsonjere = np.array(sorted(Garsonjere, key=lambda x: np.datetime64(convert_date(x[5]))))\n",
    "\n",
    "counter = 0\n",
    "sumaCena = 0\n",
    "garsonjereList = []\n",
    "\n",
    "for stanovanje in Garsonjere:\n",
    "    if counter < 240:\n",
    "        sumaCena += stanovanje[6]\n",
    "        garsonjereList.append((convert_date(stanovanje[5]), stanovanje[6]))\n",
    "        counter += 1\n",
    "    else:\n",
    "        sumaCena += stanovanje[6] - garsonjereList[counter - 240][1]\n",
    "        garsonjereList.append((convert_date(stanovanje[5]), stanovanje[6], (sumaCena / 240)))\n",
    "        counter += 1\n",
    "\n",
    "garsonjereList = np.array(garsonjereList[240:], dtype=\"object\")\n",
    "\n",
    "fig, ax = plt.subplots()\n",
    "ax.plot([x[0] for x in garsonjereList], [x[2] for x in garsonjereList], label=\"Cene stanovanj večjih od 110 m^2\")\n",
    "ax.legend(loc=0) \n",
    "ax.set_title('Povprečna cena garsonjere v Ljubljani od konca leta 2013 do konca leta 2023')\n",
    "plt.xlabel('Datum')\n",
    "plt.ylabel('Povprečna cena (EUR)')\n",
    "plt.xticks(rotation=45)\n",
    "max_y_value = np.max([x[2] for x in garsonjereList])\n",
    "ax.set_ylim(0, max_y_value + 60000)\n",
    "plt.show()\n",
    "finalList4 = garsonjereList\n"
   ]
  },
  {
   "cell_type": "code",
   "execution_count": null,
   "id": "0af7a459",
   "metadata": {},
   "outputs": [],
   "source": [
    "print( np.average(garsonjereListFinal[len(garsonjereListFinal)-10:,2])/np.average(garsonjereListFinal[:10,2]))\n",
    "print( np.average(finalList2[len(finalList2)-10:,2])/np.average(finalList2[:10,2]))\n",
    "print( np.average(finalList3[len(finalList3)-10:,2])/np.average(finalList3[:10,2]))\n",
    "print( np.average(finalList4[len(finalList4)-10:,2])/np.average(finalList4[:10,2]))\n",
    "\n"
   ]
  },
  {
   "cell_type": "markdown",
   "id": "d1ab1ace",
   "metadata": {},
   "source": [
    "| Tip stanovanja                 | Odstotek rasti tipa stanovanj |\n",
    "|-------------------------------|-------------------------------|\n",
    "| Garsonjera med 10 in 30 m^2    | 246%                          |\n",
    "| Stanovanje med 30 in 70 m^2   | 188%                          |\n",
    "| Stanovanje med 70 in 110 m^2  | 213%                          |\n",
    "| Stanovanje več kot 110 m^2    | 207%                          |\n"
   ]
  },
  {
   "cell_type": "code",
   "execution_count": null,
   "id": "f4d649dc",
   "metadata": {},
   "outputs": [],
   "source": [
    "fig, ax = plt.subplots()\n",
    "ax.plot([x[0] for x in finalList4], [x[2] for x in finalList4], label=\"Cene stanovanj večjih od 110 m^2\")\n",
    "ax.plot([x[0] for x in finalList3], [x[2] for x in finalList3], label=\"Cene stanovanj med 70 in 110 m^2\")\n",
    "ax.plot([x[0] for x in finalList2], [x[2] for x in finalList2], label=\"Cene stanovanj med 30 in 70 m^2\")\n",
    "ax.plot([x[0] for x in garsonjereListFinal], [x[2] for x in garsonjereListFinal], label=\"Cene garsonjer med 10 in 30 m^2\")\n",
    "ax.legend(loc=0) \n",
    "ax.set_title('Rast povprečne cena prodanih stanovanj v Ljubljani od konca leta 2013 do konca leta 2023')\n",
    "plt.xlabel('Datum')\n",
    "plt.ylabel('Povprečna cena (EUR)')\n",
    "plt.xticks(rotation=45)\n",
    "max_y_value = np.max([x[2] for x in finalList4])\n",
    "ax.set_ylim(0, max_y_value + 50000)\n",
    "plt.show()"
   ]
  },
  {
   "cell_type": "markdown",
   "id": "4f11a5a2",
   "metadata": {},
   "source": [
    "UGOTOVITVE!!!! (Add Text)"
   ]
  },
  {
   "cell_type": "markdown",
   "id": "2609a1af",
   "metadata": {},
   "source": [
    "## Analiza cene stanovanj glede na kvadraturo\n",
    "V tem delu poročila bomo poskušali ugotoviti kako izgleda cena stanovanj glede na kvadraturo - Ali so manjša stanovanja dražja kot večja ali ne. Pogledali bomo ali so se te cene spremenile skozi leta."
   ]
  },
  {
   "cell_type": "code",
   "execution_count": null,
   "id": "79a52550",
   "metadata": {},
   "outputs": [],
   "source": [
    "import matplotlib.pyplot as plt\n",
    "import numpy as np\n",
    "\n",
    "def plot_data(ax, final_array):\n",
    "    notsorted = [(int(round(x[4],0)),int(round(float(x[6])/float(x[4]),0))) for x in final_array]\n",
    "    notsorted = sorted(notsorted, key=lambda x: x[0])\n",
    "    notsorted = [x for x in notsorted if not (x[0] < 10 or x[1] > 10000 or x[1] < 500 or x[0] > 500)]\n",
    "\n",
    "    x = [x[0] for x in notsorted]\n",
    "    y = [y[1] for y in notsorted]\n",
    "\n",
    "    fit = np.polyfit(x, y, 8)\n",
    "    fit_x = np.linspace(min(x), max(x), 100)\n",
    "    fit_y = np.polyval(fit, fit_x)\n",
    "    \n",
    "    ax.scatter(x, y, label=\"Prodana stanovajna\")\n",
    "    ax.plot(fit_x, fit_y, color='red', label=\"Prilagojena krivulja\")\n",
    "\n",
    "fig, axs = plt.subplots(2, 2, figsize=(10, 8))\n",
    "\n",
    "plot_data(axs[0, 0], final2014)\n",
    "plot_data(axs[0, 1], final2018)\n",
    "plot_data(axs[1, 0], final2023)\n",
    "plot_data(axs[1, 1], all_final)\n",
    "\n",
    "sez = [\" leta 2014\", \" leta 2018\", \" leta 2023\", \" od leta 2014 do leta 2023\"]\n",
    "for i,ax in enumerate(axs.flat):\n",
    "    ax.set_xlabel('Površina stanovanja (m^2)')\n",
    "    ax.set_ylabel('Cena kvadratnega metra (EUR/m^2)')\n",
    "    ax.set_title('Cena kvadratnega metra za stanovanje'  + sez[i])\n",
    "    ax.legend()\n",
    "    ax.tick_params(axis='x', rotation=45)\n",
    "\n",
    "# Adjust layout\n",
    "plt.tight_layout()\n",
    "plt.show()\n"
   ]
  },
  {
   "cell_type": "markdown",
   "id": "170c8704",
   "metadata": {},
   "source": [
    "**Ugotovitve**\n",
    "<br> \n",
    "Opazimo lahko, da je cena stanovanja glede na na kvadratni meter, manjša, če je stanovanje večje. Pri vseh letih pa lahko opazimo, da se stanovanja ponovno podražijo, če je stanovanje večje od ≈ 300m^2. Lahko tudi opazimo, da je v zadnjem letu v primerjavi z ostalima letoma krivulja dosti bolj strma."
   ]
  },
  {
   "cell_type": "code",
   "execution_count": null,
   "id": "0f57d6be",
   "metadata": {},
   "outputs": [],
   "source": []
  },
  {
   "cell_type": "markdown",
   "id": "0bf0b224",
   "metadata": {},
   "source": [
    "## Heat Map cen stanovanj v Ljubljani"
   ]
  },
  {
   "cell_type": "code",
   "execution_count": null,
   "id": "9c7fefe8",
   "metadata": {},
   "outputs": [],
   "source": [
    "# ID, #Ime ulice, #Hišna številka, ..., #Cena[EUR]\n",
    "data2014 = final2014[:500]\n",
    "data2018 = final2018[:500]\n",
    "data2023 = final2023[:500]\n",
    "\n",
    "formatted_data2023 = [\n",
    "    f\"{item[1]} {item[2]}, 1000 Ljubljana, Slovenia\" for item in data2023\n",
    "]\n",
    "\n",
    "formatted_data2018 = [\n",
    "    f\"{item[1]} {item[2]}, 1000 Ljubljana, Slovenia\" for item in data2018\n",
    "]\n",
    "\n",
    "formatted_data2014 = [\n",
    "    f\"{item[1]} {item[2]}, 1000 Ljubljana, Slovenia\" for item in data2014\n",
    "]"
   ]
  },
  {
   "cell_type": "code",
   "execution_count": null,
   "id": "ec2ea612",
   "metadata": {},
   "outputs": [],
   "source": [
    "import os\n",
    "import requests\n",
    "import pandas as pd\n",
    "import json\n",
    "\n",
    "import folium\n",
    "from folium.plugins import HeatMap\n",
    "\n",
    "API_KEY = os.environ.get(\"GEOAPIFY_API_KEY\")\n",
    "url = f\"https://api.geoapify.com/v1/batch/geocode/search?apiKey={API_KEY}\";\n",
    "headers = {\"Content-Type\": \"application/json\"}\n",
    "data = formatted_data2014\n",
    "\n",
    "try:\n",
    "    resp = requests.post(url, headers=headers, data=json.dumps(data))\n",
    "    print(resp.json())\n",
    "except requests.exceptions.HTTPError as e:\n",
    "    print(e.response.text)"
   ]
  },
  {
   "cell_type": "code",
   "execution_count": null,
   "id": "db84bba3",
   "metadata": {},
   "outputs": [],
   "source": [
    "# Batch id for first 50 addresses in data2023\n",
    "job_id = \"2883879f8ddf449494c5fc72ed0cfac7\"\n",
    "\n",
    "url = f\"https://api.geoapify.com/v1/batch?id={job_id}&apiKey={API_KEY}\"\n",
    "\n",
    "response = requests.get(url)\n",
    "\n",
    "response_data = response.json()\n",
    "print(response_data)"
   ]
  },
  {
   "cell_type": "code",
   "execution_count": null,
   "id": "1e0f7c5e",
   "metadata": {},
   "outputs": [],
   "source": [
    "with open(\"geocoding_data2014.json\", \"w\") as outfile:\n",
    "    json.dump(response_data, outfile)"
   ]
  },
  {
   "cell_type": "code",
   "execution_count": null,
   "id": "e6e99ff0",
   "metadata": {},
   "outputs": [],
   "source": [
    "# Ustvari seznam seznamov [[lat, long, cena stanovanja]]\n",
    "# 2023\n",
    "\n",
    "parsed_data = []\n",
    "formatted_price_data = [[f\"{item[1]} {item[2]}\", item[-1]] for item in data2014]\n",
    "\n",
    "for result in geocoding_data2023[\"results\"]:\n",
    "    lat = result[\"result\"][\"features\"][0][\"properties\"][\"lat\"]\n",
    "    lon = result[\"result\"][\"features\"][0][\"properties\"][\"lon\"]\n",
    "    parsed_data.append([lat, lon])\n",
    "           \n",
    "            \n",
    "# parsed_data"
   ]
  },
  {
   "cell_type": "code",
   "execution_count": null,
   "id": "e951eb15",
   "metadata": {},
   "outputs": [],
   "source": [
    "print(len(parsed_data))"
   ]
  },
  {
   "cell_type": "code",
   "execution_count": null,
   "id": "42bade37",
   "metadata": {},
   "outputs": [],
   "source": [
    "ljubljana_map = folium.Map(location=[46.0569, 14.5058], zoom_start=13)\n",
    "\n",
    "HeatMap(parsed_data, radius=15, blur=5).add_to(ljubljana_map)\n",
    "\n",
    "ljubljana_map.save(\"condo_prices_heatmap_2014.html\")   "
   ]
  },
  {
   "cell_type": "code",
   "execution_count": null,
   "id": "f2014f74",
   "metadata": {},
   "outputs": [],
   "source": [
    "from IPython.display import display, HTML\n"
   ]
  }
 ],
 "metadata": {
  "kernelspec": {
   "display_name": "Python 3 (ipykernel)",
   "language": "python",
   "name": "python3"
  },
  "language_info": {
   "codemirror_mode": {
    "name": "ipython",
    "version": 3
   },
   "file_extension": ".py",
   "mimetype": "text/x-python",
   "name": "python",
   "nbconvert_exporter": "python",
   "pygments_lexer": "ipython3",
   "version": "3.9.13"
  }
 },
 "nbformat": 4,
 "nbformat_minor": 5
}
